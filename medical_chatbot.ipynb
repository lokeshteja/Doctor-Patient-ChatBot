{
 "cells": [
  {
   "cell_type": "code",
   "execution_count": 1,
   "id": "1b54af2d-cfcc-4ec6-88b3-560737551b54",
   "metadata": {},
   "outputs": [
    {
     "data": {
      "text/plain": [
       "1"
      ]
     },
     "execution_count": 1,
     "metadata": {},
     "output_type": "execute_result"
    }
   ],
   "source": [
    "import torch\n",
    "from transformers import AutoTokenizer, AutoModelForCausalLM, BitsAndBytesConfig\n",
    "from datasets import load_dataset\n",
    "import matplotlib.pyplot as plt\n",
    "from peft import PeftModel, prepare_model_for_kbit_training, LoraConfig, get_peft_model\n",
    "\n",
    "import json\n",
    "import warnings\n",
    "warnings.filterwarnings(\"ignore\")\n",
    "\n",
    "torch.cuda.empty_cache()\n",
    "torch.cuda.is_available()\n",
    "torch.cuda.device_count()"
   ]
  },
  {
   "cell_type": "markdown",
   "id": "b074bf2e-f884-42f1-b2bd-465076c42947",
   "metadata": {},
   "source": [
    "### Loading the dataset"
   ]
  },
  {
   "cell_type": "code",
   "execution_count": 5,
   "id": "b972ceaa-8512-406a-943d-040669a1af35",
   "metadata": {},
   "outputs": [
    {
     "data": {
      "application/vnd.jupyter.widget-view+json": {
       "model_id": "39403250aa48479d9bbb5edc43e5b46c",
       "version_major": 2,
       "version_minor": 0
      },
      "text/plain": [
       "Downloading readme:   0%|          | 0.00/542 [00:00<?, ?B/s]"
      ]
     },
     "metadata": {},
     "output_type": "display_data"
    },
    {
     "data": {
      "application/vnd.jupyter.widget-view+json": {
       "model_id": "3783a2357bdf4731ac24c2a8439e7736",
       "version_major": 2,
       "version_minor": 0
      },
      "text/plain": [
       "Downloading data:   0%|          | 0.00/70.5M [00:00<?, ?B/s]"
      ]
     },
     "metadata": {},
     "output_type": "display_data"
    },
    {
     "data": {
      "application/vnd.jupyter.widget-view+json": {
       "model_id": "a94f2287782e4bedbb77dcd529529194",
       "version_major": 2,
       "version_minor": 0
      },
      "text/plain": [
       "Generating train split:   0%|          | 0/112165 [00:00<?, ? examples/s]"
      ]
     },
     "metadata": {},
     "output_type": "display_data"
    },
    {
     "name": "stdout",
     "output_type": "stream",
     "text": [
      "Features of train dataset: {'instruction': Value(dtype='string', id=None), 'input': Value(dtype='string', id=None), 'output': Value(dtype='string', id=None)}\n",
      "Number of rows in train dataset: 4500\n",
      "Number of rows in test dataset: 500\n"
     ]
    }
   ],
   "source": [
    "dataset = load_dataset(\"lavita/ChatDoctor-HealthCareMagic-100k\")\n",
    "\n",
    "# Shuffle the dataset\n",
    "shuffled_dataset = dataset[\"train\"].shuffle(seed=42)  # Using seed for reproducibility\n",
    "\n",
    "# Split the dataset\n",
    "train_test_split = shuffled_dataset.train_test_split(test_size=500)  # This sets aside 500 samples for testing\n",
    "train_dataset = train_test_split[\"train\"]\n",
    "eval_dataset = train_test_split[\"test\"]\n",
    "\n",
    "# Considering 5000 samples in total\n",
    "train_dataset = train_dataset.select(range(4500))  # Selecting the first 4500 samples for training after splitting\n",
    "\n",
    "print(\"Features of train dataset:\", train_dataset.features)\n",
    "print(\"Number of rows in train dataset:\", len(train_dataset))\n",
    "print(\"Number of rows in test dataset:\", len(eval_dataset))\n"
   ]
  },
  {
   "cell_type": "markdown",
   "id": "77e4eb1c-e14f-4322-8ca7-c618a74b80e2",
   "metadata": {},
   "source": [
    "### Assigning input/output formats"
   ]
  },
  {
   "cell_type": "code",
   "execution_count": 6,
   "id": "e4ee31d0-8e6d-44f2-b78a-5425becc5ab7",
   "metadata": {},
   "outputs": [],
   "source": [
    "def format_func(example):\n",
    "    # This function formats the input and output of the example into a specific string format\n",
    "    text = f\"### Here's an example of the doctor's opinion on a person's query: \\n### Patient query: {example['input']} \\n### Doctor's response: {example['output']}\"\n",
    "    return text"
   ]
  },
  {
   "cell_type": "markdown",
   "id": "7680b305-402b-427b-b222-a00ca68367b1",
   "metadata": {},
   "source": [
    "#### Example of the doctor's opinion on a patient's query:\n",
    "##### Patient query: I recently noticed a small, painless lump on my neck. Should I be concerned?\n",
    "##### Doctor's response: Hi, a small, painless lump on your neck can have various causes, such as a swollen lymph node, cyst, or other benign conditions. However, it's important to monitor it for any changes in size, pain, or other symptoms. I recommend scheduling an appointment with your healthcare provider to get a proper evaluation and ensure there is no underlying serious condition. Take care, Chat Doctor."
   ]
  },
  {
   "cell_type": "markdown",
   "id": "af453139-9cef-4f0a-88ca-dae6526659bd",
   "metadata": {},
   "source": [
    "### Load the Base Model: \"Mistral-7B-v0.1\", using 4-bit quantization\n"
   ]
  },
  {
   "cell_type": "code",
   "execution_count": 8,
   "id": "07eee73f-cd7c-4e56-8a0b-373e54e2dc2a",
   "metadata": {},
   "outputs": [
    {
     "name": "stderr",
     "output_type": "stream",
     "text": [
      "`low_cpu_mem_usage` was None, now set to True since model is quantized.\n"
     ]
    },
    {
     "data": {
      "application/vnd.jupyter.widget-view+json": {
       "model_id": "04d5c7da445540919d84942d1174b95b",
       "version_major": 2,
       "version_minor": 0
      },
      "text/plain": [
       "Loading checkpoint shards:   0%|          | 0/2 [00:00<?, ?it/s]"
      ]
     },
     "metadata": {},
     "output_type": "display_data"
    }
   ],
   "source": [
    "token = HUGGING_FACE_API_TOKEN  #Add your hugging face API token here\n",
    "base_model_id = \"mistralai/Mistral-7B-v0.1\"\n",
    "\n",
    "#Model Initialization\n",
    "bnb_config = BitsAndBytesConfig(\n",
    "    load_in_4bit=True,\n",
    "    bnb_4bit_use_double_quant=True,\n",
    "    bnb_4bit_quant_type=\"nf4\",\n",
    "    bnb_4bit_compute_dtype=torch.bfloat16 \n",
    ")\n",
    "\n",
    "model = AutoModelForCausalLM.from_pretrained(base_model_id, quantization_config=bnb_config, token=token, resume_download=True)"
   ]
  },
  {
   "cell_type": "markdown",
   "id": "56893f9e-4bcf-4d9c-910d-5a067a0b002b",
   "metadata": {},
   "source": [
    "### Tokenization"
   ]
  },
  {
   "cell_type": "code",
   "execution_count": 9,
   "id": "f3575f9d-9ae9-4eb8-9824-fa7ab343d2ca",
   "metadata": {},
   "outputs": [],
   "source": [
    "# Load the tokenizer with specific settings\n",
    "tokenizer = AutoTokenizer.from_pretrained(\n",
    "    base_model_id,\n",
    "    padding_side=\"left\", #Padding added to left to make training use less memory\n",
    "    add_eos_token=True,  # Add End Of Sequence token to the tokenizer\n",
    "    add_bos_token=True,  # Add Beginning Of Sequence token to the tokenizer\n",
    "    use_auth_token = \n",
    ")\n",
    "# Set the pad token to the EOS token\n",
    "tokenizer.pad_token = tokenizer.eos_token\n",
    "\n",
    "def generate_and_tokenize_prompt(prompt):\n",
    "    return tokenizer(format_func(prompt))"
   ]
  },
  {
   "cell_type": "markdown",
   "id": "5ef6f99b-a58f-4bfa-9dcf-d5a2e016fe7a",
   "metadata": {},
   "source": [
    "#### Tokenizing each sample"
   ]
  },
  {
   "cell_type": "code",
   "execution_count": 10,
   "id": "98176d21-c8a1-436a-a8ea-13661414ef0f",
   "metadata": {},
   "outputs": [
    {
     "data": {
      "application/vnd.jupyter.widget-view+json": {
       "model_id": "7db208729c01487eaad7065bd02816b6",
       "version_major": 2,
       "version_minor": 0
      },
      "text/plain": [
       "Map:   0%|          | 0/4500 [00:00<?, ? examples/s]"
      ]
     },
     "metadata": {},
     "output_type": "display_data"
    },
    {
     "data": {
      "application/vnd.jupyter.widget-view+json": {
       "model_id": "bc4f85d38c70454ab71a2377d808a461",
       "version_major": 2,
       "version_minor": 0
      },
      "text/plain": [
       "Map:   0%|          | 0/500 [00:00<?, ? examples/s]"
      ]
     },
     "metadata": {},
     "output_type": "display_data"
    }
   ],
   "source": [
    "tokenized_train_dataset = train_dataset.map(generate_and_tokenize_prompt)\n",
    "tokenized_val_dataset = eval_dataset.map(generate_and_tokenize_prompt)"
   ]
  },
  {
   "cell_type": "markdown",
   "id": "5cf7396f-55f6-47b0-853d-060f79b74502",
   "metadata": {},
   "source": [
    "#### Distribution of our dataset lengths, to determine the appropriate max_length for the input tensors"
   ]
  },
  {
   "cell_type": "code",
   "execution_count": 11,
   "id": "2a212c6d-bc60-4f3c-8d0b-de85e79c4f72",
   "metadata": {},
   "outputs": [
    {
     "name": "stdout",
     "output_type": "stream",
     "text": [
      "5000\n"
     ]
    },
    {
     "data": {
      "image/png": "[encoded data removed]",
      "text/plain": [
       "<Figure size 1000x600 with 1 Axes>"
      ]
     },
     "metadata": {},
     "output_type": "display_data"
    }
   ],
   "source": [
    "def plot_data_lengths(tokenized_train_dataset, tokenized_val_dataset):\n",
    "    lengths = [len(x['input_ids']) for x in tokenized_train_dataset]\n",
    "    lengths += [len(x['input_ids']) for x in tokenized_val_dataset]\n",
    "    print(len(lengths))\n",
    "\n",
    "    # Plotting the histogram\n",
    "    plt.figure(figsize=(10, 6))\n",
    "    plt.hist(lengths, bins=20, alpha=0.7, color='blue')\n",
    "    plt.xlabel('Length of input ids')\n",
    "    plt.ylabel('Frequency')\n",
    "    plt.title('Distribution of lengths of input ids')\n",
    "    plt.show()\n",
    "\n",
    "plot_data_lengths(tokenized_train_dataset, tokenized_val_dataset)"
   ]
  },
  {
   "cell_type": "markdown",
   "id": "01ebea0b-fb0d-4ae1-90c4-5b3323f068c6",
   "metadata": {},
   "source": [
    "### Function to generate and tokenize the prompt"
   ]
  },
  {
   "cell_type": "code",
   "execution_count": 14,
   "id": "cb966531-cb5c-4115-8dce-2aaffe85fe66",
   "metadata": {
    "scrolled": true
   },
   "outputs": [
    {
     "data": {
      "application/vnd.jupyter.widget-view+json": {
       "model_id": "05eba9f9453949a0911203b3c4e28c4b",
       "version_major": 2,
       "version_minor": 0
      },
      "text/plain": [
       "Map:   0%|          | 0/4500 [00:00<?, ? examples/s]"
      ]
     },
     "metadata": {},
     "output_type": "display_data"
    },
    {
     "data": {
      "application/vnd.jupyter.widget-view+json": {
       "model_id": "def33f47950945bab6372dc40fea2fe2",
       "version_major": 2,
       "version_minor": 0
      },
      "text/plain": [
       "Map:   0%|          | 0/500 [00:00<?, ? examples/s]"
      ]
     },
     "metadata": {},
     "output_type": "display_data"
    }
   ],
   "source": [
    "max_length = 512 # considered as an approximate length for the dataset\n",
    "\n",
    "def generate_and_tokenize_prompt(prompt):\n",
    "    result = tokenizer(\n",
    "        format_func(prompt),\n",
    "        truncation=True,\n",
    "        max_length=max_length,\n",
    "        padding=\"max_length\",\n",
    "    )\n",
    "    result[\"labels\"] = result[\"input_ids\"].copy()\n",
    "    return result\n",
    "\n",
    "#Tokenize the training data\n",
    "tokenized_train_dataset = train_dataset.map(generate_and_tokenize_prompt)\n",
    "#Tokenize the evaluation data\n",
    "tokenized_val_dataset = eval_dataset.map(generate_and_tokenize_prompt)"
   ]
  },
  {
   "cell_type": "code",
   "execution_count": 16,
   "id": "b606b132-1f3e-4bed-a619-3bdc54b7701b",
   "metadata": {},
   "outputs": [
    {
     "name": "stdout",
     "output_type": "stream",
     "text": [
      "5000\n"
     ]
    },
    {
     "data": {
      "image/png": "[encoded data removed]",
      "text/plain": [
       "<Figure size 1000x600 with 1 Axes>"
      ]
     },
     "metadata": {},
     "output_type": "display_data"
    }
   ],
   "source": [
    "plot_data_lengths(tokenized_train_dataset, tokenized_val_dataset)"
   ]
  },
  {
   "cell_type": "markdown",
   "id": "52f32a38-09da-48ca-b63b-496f71f841ca",
   "metadata": {},
   "source": [
    "### Base Model Performance"
   ]
  },
  {
   "cell_type": "code",
   "execution_count": 16,
   "id": "c9570418-dc90-43ed-a527-4bd9cca6b86e",
   "metadata": {},
   "outputs": [],
   "source": [
    "query = \"Hi doc, I am recovering after dengue, sometimes my heart feels restless and uncomfortable, what could be the problem?\"\n",
    "eval_prompt = \"\"\"Patient's Query:\\n\\n {} \\n\\n\"\"\".format(query)"
   ]
  },
  {
   "cell_type": "code",
   "execution_count": 17,
   "id": "49d8a129-043d-4660-8c99-dcb74d438a7c",
   "metadata": {},
   "outputs": [
    {
     "name": "stderr",
     "output_type": "stream",
     "text": [
      "Setting `pad_token_id` to `eos_token_id`:2 for open-end generation.\n"
     ]
    },
    {
     "name": "stdout",
     "output_type": "stream",
     "text": [
      "Patient's Query:\n",
      "\n",
      " Hi doc, I am recovering after dengue, sometimes my heart feels restless and uncomfortable, what could be the problem? \n",
      "\n",
      "Doctor Answer:\n",
      "\n",
      "Dear Sir/Madam,\n",
      "\n",
      "Thank you for your query. Dengue is a viral infection that can cause fever, headache, muscle pain, nausea, vomiting, rash, and bleeding problems. In severe cases, it can lead to shock (low blood pressure) and death. The most common symptoms of dengue are high fever, headache, joint and muscle pain, swollen glands, and rash. Other symptoms include loss of appetite, nausea, vomiting, abdominal pain, and diarrhea. Some people may also experience difficulty breathing or chest pain. If you have any of these symptoms, please see a doctor immediately. There is no specific treatment for dengue, but supportive care such as fluids and electrolytes replacement can help manage the condition.\n"
     ]
    }
   ],
   "source": [
    "# Re-init the tokenizer so it doesn't add padding or eos token\n",
    "tokenizer = AutoTokenizer.from_pretrained(\n",
    "    base_model_id,\n",
    "    add_bos_token=True,\n",
    ")\n",
    "if tokenizer.pad_token is None:\n",
    "    tokenizer.add_special_tokens({'pad_token': '[PAD]'})\n",
    "\n",
    "model_input = tokenizer(eval_prompt, return_tensors=\"pt\").to(\"cuda\")\n",
    "\n",
    "model.eval()\n",
    "with torch.no_grad():\n",
    "    print(tokenizer.decode(model.generate(**model_input, max_new_tokens=256, repetition_penalty=1.15)[0], skip_special_tokens=True))"
   ]
  },
  {
   "cell_type": "markdown",
   "id": "4de9e1ed-b222-4d2f-bae6-313cda281160",
   "metadata": {},
   "source": [
    "### Setting Up LoRA"
   ]
  },
  {
   "cell_type": "code",
   "execution_count": 20,
   "id": "76597107-b125-4417-9c95-11517c896379",
   "metadata": {},
   "outputs": [],
   "source": [
    "def print_trainable_params(model):\n",
    "    \"\"\"\n",
    "    Prints the number of trainable parameters in the model.\n",
    "    \"\"\"\n",
    "    trainable_params = 0\n",
    "    all_param = 0\n",
    "    for _, param in model.named_parameters():\n",
    "        all_param += param.numel()\n",
    "        if param.requires_grad:\n",
    "            trainable_params += param.numel()\n",
    "    print(\n",
    "        f\"trainable params: {trainable_params} || all params: {all_param} || trainable%: {100 * trainable_params / all_param}\"\n",
    "    )"
   ]
  },
  {
   "cell_type": "markdown",
   "id": "01d0e336-9de3-4a85-ac67-bc69d6363750",
   "metadata": {},
   "source": [
    "### Fine-tuning Configuration"
   ]
  },
  {
   "cell_type": "code",
   "execution_count": 21,
   "id": "649d14ce-ecfe-4d04-ad94-7df3a9b2ae65",
   "metadata": {},
   "outputs": [
    {
     "name": "stdout",
     "output_type": "stream",
     "text": [
      "trainable params: 85041152 || all params: 3837112320 || trainable%: 2.2162799758751914\n"
     ]
    }
   ],
   "source": [
    "config = LoraConfig(\n",
    "    r=32,\n",
    "    lora_alpha=64,\n",
    "    target_modules=[\n",
    "        \"q_proj\",\n",
    "        \"k_proj\",\n",
    "        \"v_proj\",\n",
    "        \"o_proj\",\n",
    "        \"gate_proj\",\n",
    "        \"up_proj\",\n",
    "        \"down_proj\",\n",
    "        \"lm_head\",\n",
    "    ],\n",
    "    bias=\"none\",\n",
    "    lora_dropout=0.05,  \n",
    "    task_type=\"CAUSAL_LM\",\n",
    ")\n",
    "\n",
    "model = get_peft_model(model, config)\n",
    "print_trainable_params(model)"
   ]
  },
  {
   "cell_type": "code",
   "execution_count": 22,
   "id": "b89f203e-5ed4-4fc9-98e4-5dab7cb598de",
   "metadata": {},
   "outputs": [],
   "source": [
    "model.gradient_checkpointing_enable()\n",
    "model = prepare_model_for_kbit_training(model)"
   ]
  },
  {
   "cell_type": "code",
   "execution_count": 23,
   "id": "97497701-f65f-4ce8-b9db-ce895735aae6",
   "metadata": {},
   "outputs": [
    {
     "name": "stderr",
     "output_type": "stream",
     "text": [
      "Detected kernel version 5.4.0, which is below the recommended minimum of 5.5.0; this can cause the process to hang. It is recommended to upgrade the kernel to the minimum version or higher.\n"
     ]
    }
   ],
   "source": [
    "from accelerate import FullyShardedDataParallelPlugin, Accelerator\n",
    "from torch.distributed.fsdp.fully_sharded_data_parallel import FullOptimStateDictConfig, FullStateDictConfig\n",
    "\n",
    "fsdp_plugin = FullyShardedDataParallelPlugin(\n",
    "    state_dict_config=FullStateDictConfig(offload_to_cpu=True, rank0_only=False),\n",
    "    optim_state_dict_config=FullOptimStateDictConfig(offload_to_cpu=True, rank0_only=False),\n",
    ")\n",
    "\n",
    "accelerator = Accelerator(fsdp_plugin=fsdp_plugin)"
   ]
  },
  {
   "cell_type": "code",
   "execution_count": 24,
   "id": "21f9c152-31b0-4b83-9147-93c93901b7f0",
   "metadata": {},
   "outputs": [],
   "source": [
    "model = accelerator.prepare_model(model)"
   ]
  },
  {
   "cell_type": "code",
   "execution_count": 26,
   "id": "2b13beb1-2e8a-43d7-9002-e23531b9c509",
   "metadata": {},
   "outputs": [
    {
     "data": {
      "text/plain": [
       "'./mistral-chat-doctor-finetune'"
      ]
     },
     "execution_count": 26,
     "metadata": {},
     "output_type": "execute_result"
    }
   ],
   "source": [
    "output_dir"
   ]
  },
  {
   "cell_type": "markdown",
   "id": "ab29cd40-8f5d-4ede-8ac1-1349c0f0b6be",
   "metadata": {},
   "source": [
    "### Model Training"
   ]
  },
  {
   "cell_type": "code",
   "execution_count": null,
   "id": "b524eda2-9fce-42db-a63a-b75166ecb464",
   "metadata": {},
   "outputs": [],
   "source": [
    "import transformers\n",
    "from datetime import datetime\n",
    "\n",
    "project = \"chat-doctor-finetune\"\n",
    "base_model_name = \"mistral\"\n",
    "run_name = base_model_name + \"-\" + project\n",
    "output_dir = \"./\" + run_name\n",
    "\n",
    "trainer = transformers.Trainer(\n",
    "    model=model,\n",
    "    train_dataset=tokenized_train_dataset,\n",
    "    eval_dataset=tokenized_val_dataset,\n",
    "    args=transformers.TrainingArguments(\n",
    "        output_dir=output_dir,\n",
    "        warmup_steps=1,\n",
    "        per_device_train_batch_size=4,\n",
    "        gradient_accumulation_steps=1,\n",
    "        gradient_checkpointing=True,\n",
    "        max_steps=500,\n",
    "        learning_rate=2.5e-4, # Want a small lr for finetuning\n",
    "        #bf16=True,\n",
    "        optim=\"paged_adamw_8bit\",\n",
    "        logging_steps=25,              # When to start reporting loss\n",
    "        logging_dir=\"./logs\",        # Directory for storing logs\n",
    "        save_strategy=\"steps\",       # Save the model checkpoint every logging step\n",
    "        save_steps=25,                # Save checkpoints every 50 steps\n",
    "        evaluation_strategy=\"steps\", # Evaluate the model every logging step\n",
    "        eval_steps=25,               # Evaluate and save checkpoints every 50 steps\n",
    "        do_eval=True,                # Perform evaluation at the end of training\n",
    "    ),\n",
    "    data_collator=transformers.DataCollatorForLanguageModeling(tokenizer, mlm=False),\n",
    ")\n",
    "\n",
    "model.config.use_cache = False  # silence the warnings. Please re-enable for inference!\n",
    "trainer.train(resume_from_checkpoint=True)"
   ]
  },
  {
   "cell_type": "code",
   "execution_count": null,
   "id": "3d0fafb9-8eaa-47a8-9245-bbef6c465a5d",
   "metadata": {},
   "outputs": [],
   "source": []
  },
  {
   "cell_type": "markdown",
   "id": "df93f3f9-f8cb-4b8b-8751-851eeb827d71",
   "metadata": {},
   "source": [
    "### Metrics"
   ]
  },
  {
   "cell_type": "code",
   "execution_count": 41,
   "id": "0df8883f-d492-4ee4-b349-efb0de42677b",
   "metadata": {},
   "outputs": [],
   "source": [
    "train_checkpoints_data=json.load(open(\"./mistral-chat-doctor-finetune/checkpoint-500/trainer_state.json\")) \n"
   ]
  },
  {
   "cell_type": "markdown",
   "id": "af670abb-45a9-4919-8477-b871d3fc5047",
   "metadata": {},
   "source": [
    "#### Computing the losses"
   ]
  },
  {
   "cell_type": "code",
   "execution_count": 47,
   "id": "db2b769a-8aa4-4faa-8175-584502d47036",
   "metadata": {},
   "outputs": [],
   "source": [
    "# Initialize empty lists to store learning rates, training losses, evaluation losses, and steps\n",
    "learn_rates = []\n",
    "loss = []\n",
    "eval_loss = []\n",
    "steps=[]\n",
    "# Loop through each entry in the log history from the training checkpoints data\n",
    "for x in train_checkpoints_data['log_history']:\n",
    "    try:\n",
    "        # extracting the learning rate, training loss, and step number\n",
    "        learn_rates.append(x['learning_rate'])\n",
    "        loss.append(x['loss'])\n",
    "        steps.append(x['step'])\n",
    "    except:\n",
    "        eval_loss.append(x['eval_loss'])"
   ]
  },
  {
   "cell_type": "code",
   "execution_count": 48,
   "id": "b9bbac23-e19e-487c-9444-141d37b1c183",
   "metadata": {},
   "outputs": [
    {
     "data": {
      "text/plain": [
       "[0.00023797595190380762,\n",
       " 0.00022545090180360722,\n",
       " 0.00021292585170340681,\n",
       " 0.0002004008016032064,\n",
       " 0.000187875751503006,\n",
       " 0.00017535070140280563,\n",
       " 0.0001628256513026052,\n",
       " 0.00015030060120240483,\n",
       " 0.0001377755511022044,\n",
       " 0.000125250501002004,\n",
       " 0.00011272545090180361,\n",
       " 0.0001002004008016032,\n",
       " 8.767535070140282e-05,\n",
       " 7.515030060120241e-05,\n",
       " 6.2625250501002e-05,\n",
       " 5.01002004008016e-05,\n",
       " 3.757515030060121e-05,\n",
       " 2.50501002004008e-05,\n",
       " 1.25250501002004e-05,\n",
       " 0.0]"
      ]
     },
     "execution_count": 48,
     "metadata": {},
     "output_type": "execute_result"
    }
   ],
   "source": [
    "learn_rates"
   ]
  },
  {
   "cell_type": "markdown",
   "id": "deea8451-e7be-4e0a-8e87-b34e347b420c",
   "metadata": {},
   "source": [
    "#### Plotting training and evaluation losses against the steps"
   ]
  },
  {
   "cell_type": "code",
   "execution_count": 44,
   "id": "4d3f1d43-3983-453a-9735-d84caed21874",
   "metadata": {},
   "outputs": [
    {
     "data": {
      "image/png": "[encoded data removed]",
      "text/plain": [
       "<Figure size 640x480 with 1 Axes>"
      ]
     },
     "metadata": {},
     "output_type": "display_data"
    }
   ],
   "source": [
    "plt.plot(steps, loss, label=\"Training loss\")\n",
    "plt.plot(steps, eval_loss, label= \"Evaluation loss\")\n",
    "leg= plt.legend()\n",
    "plt.xlabel(\"Steps\")\n",
    "plt.ylabel(\"Loss\")\n",
    "plt.show()"
   ]
  },
  {
   "cell_type": "code",
   "execution_count": 20,
   "id": "d2792ca7-9a7a-4ffb-9f2e-f8e7ded5d856",
   "metadata": {},
   "outputs": [
    {
     "data": {
      "application/vnd.jupyter.widget-view+json": {
       "model_id": "9e1dc2e699c7412e9c6b3344f929a23b",
       "version_major": 2,
       "version_minor": 0
      },
      "text/plain": [
       "Loading checkpoint shards:   0%|          | 0/2 [00:00<?, ?it/s]"
      ]
     },
     "metadata": {},
     "output_type": "display_data"
    }
   ],
   "source": [
    "import torch\n",
    "from transformers import AutoTokenizer, AutoModelForCausalLM, BitsAndBytesConfig\n",
    "token = HUGGING_FACE_API_TOKEN  #Add your hugging face API token here\n",
    "base_model_id = \"mistralai/Mistral-7B-v0.1\"\n",
    "\n",
    "#Setting up the configuration for quantization to make the model run faster and use less memory\n",
    "bnb_config = BitsAndBytesConfig(\n",
    "    load_in_4bit=True,\n",
    "    bnb_4bit_use_double_quant=True,\n",
    "    bnb_4bit_quant_type=\"nf4\",\n",
    "    bnb_4bit_compute_dtype=torch.bfloat16\n",
    ")\n",
    "\n",
    "# Load the base model with the specified configuration\n",
    "base_model = AutoModelForCausalLM.from_pretrained(\n",
    "    base_model_id,  # Mistral, same as before\n",
    "    quantization_config=bnb_config,  # Same quantization config as before\n",
    "    device_map=\"auto\",\n",
    "    trust_remote_code=True\n",
    ")\n",
    "# Load the tokenizer that matches the base model\n",
    "tokenizer = AutoTokenizer.from_pretrained(base_model_id, add_bos_token=True, trust_remote_code=True)"
   ]
  },
  {
   "cell_type": "code",
   "execution_count": 29,
   "id": "8c35f841-ae57-4786-8a39-17bcc6d86fc8",
   "metadata": {},
   "outputs": [],
   "source": [
    "ft_model = PeftModel.from_pretrained(base_model, \"mistral-chat-doctor-finetune/checkpoint-500/\")\n",
    "b_model = AutoModelForCausalLM.from_pretrained(base_model)\n",
    "fin_model = PeftModel.from_pretrained(b_model, ft_model)\n",
    "final_model = fin_model.merge_and_unload()\n",
    "final_model.save_pretrained(\"healthcare_llm\")"
   ]
  },
  {
   "cell_type": "markdown",
   "id": "6530b7b5-f0d9-41fb-b98e-cd4550e6ee51",
   "metadata": {},
   "source": [
    "### Uploading the model to Hugging Face"
   ]
  },
  {
   "cell_type": "code",
   "execution_count": 11,
   "id": "455c8f28-268c-4fad-9420-275d42701c7a",
   "metadata": {},
   "outputs": [],
   "source": [
    "import os\n",
    "from huggingface_hub import HfApi, HfFolder\n",
    "\n",
    "model_directory = \"healthcare_llm\"  \n",
    "model_files = [\"config.json\", \"model.safetensors\", \"generation_config.json\"]\n",
    "\n",
    "api = HfApi()\n",
    "username = \"Lokesh477\"\n",
    "repo_name = \"healthcare_llm\"\n",
    "token = HfFolder.get_token()\n",
    "\n",
    "for file_name in model_files:\n",
    "    file_path = os.path.join(model_directory, file_name)\n",
    "    with open(file_path, \"rb\") as file:\n",
    "        api.upload_file(\n",
    "            token=token,\n",
    "            repo_id=f\"{username}/{repo_name}\",\n",
    "            path_in_repo=file_name,\n",
    "            path_or_fileobj=file\n",
    "        )\n"
   ]
  },
  {
   "cell_type": "code",
   "execution_count": 23,
   "id": "c0a85bfd-d1ab-4800-b3e4-e545af6bf38d",
   "metadata": {},
   "outputs": [
    {
     "name": "stdout",
     "output_type": "stream",
     "text": [
      "Using device: cuda:0\n"
     ]
    }
   ],
   "source": [
    "#Assigning cuda:0 for processing\n",
    "device0 = torch.device('cuda:0' if torch.cuda.is_available() else 'cpu')\n",
    "print(\"Using device:\", device0)"
   ]
  },
  {
   "cell_type": "code",
   "execution_count": 30,
   "id": "14ad6034-941c-4a5a-bd8b-288dae06564a",
   "metadata": {},
   "outputs": [
    {
     "name": "stderr",
     "output_type": "stream",
     "text": [
      "Setting `pad_token_id` to `eos_token_id`:2 for open-end generation.\n"
     ]
    },
    {
     "name": "stdout",
     "output_type": "stream",
     "text": [
      "Doc chat inference:\n",
      "===================================================================================\n",
      "Patient's Query:  hi doc, my sugar level is 220 what to do?  answer it promptly in a concise way \n",
      "###\n",
      "\n",
      "Answer: Hi there! Thanks for your query. I am sorry that you are suffering from diabetes mellitus (DM). DM is a chronic disease which requires lifelong treatment and management. It can be controlled with proper dietary control, exercise, medication and regular follow up with the doctor. You should consult your treating physician regarding this. He/she will guide you about the best possible treatment plan for you.\n",
      "\n",
      "I hope this helps. Take care and stay healthy!\n"
     ]
    }
   ],
   "source": [
    "print(\"Doc bot chat output:\")\n",
    "print(\"**********************\")\n",
    "query = \" hi doc, my sugar level is 220 what to do?\"\n",
    "eval_prompt = \"\"\"Patient's Query: {}  answer it promptly in a concise way \\n###\\n\\n\"\"\".format(query)\n",
    "model_input = tokenizer(eval_prompt, return_tensors=\"pt\").to(device0)\n",
    "\n",
    "output = ft_model.generate(input_ids=model_input[\"input_ids\"].to(device0),\n",
    "                           attention_mask=model_input[\"attention_mask\"], \n",
    "                           max_new_tokens=200, repetition_penalty=1.17)\n",
    "\n",
    "reference = tokenizer.decode(output[0], skip_special_tokens=True)\n",
    "print(tokenizer.decode(output[0], skip_special_tokens=True))"
   ]
  },
  {
   "cell_type": "code",
   "execution_count": 31,
   "id": "65b515e0-24ab-4fed-9955-996763eaed61",
   "metadata": {},
   "outputs": [],
   "source": [
    "def response(query):\n",
    "    eval_prompt = \"\"\"Patient's Query: {}  answer it promptly in a concise way and to the point \\n\\n\\n\"\"\".format(query)\n",
    "    model_input = tokenizer(eval_prompt, return_tensors=\"pt\").to(device0)\n",
    "    output = ft_model.generate(input_ids=model_input[\"input_ids\"].to(device0),\n",
    "                           attention_mask=model_input[\"attention_mask\"], \n",
    "                           max_new_tokens=200, repetition_penalty=1.15)\n",
    "    result = tokenizer.decode(output[0], skip_special_tokens=True).replace(eval_prompt, \"\")\n",
    "    return result"
   ]
  },
  {
   "cell_type": "markdown",
   "id": "a37fb6b5-f3c4-4a98-b161-e10b9c04534c",
   "metadata": {},
   "source": [
    "### Output examples generated by the model"
   ]
  },
  {
   "cell_type": "code",
   "execution_count": 32,
   "id": "b9a6e153-938c-4c1e-8042-922d6833467d",
   "metadata": {},
   "outputs": [
    {
     "name": "stderr",
     "output_type": "stream",
     "text": [
      "Setting `pad_token_id` to `eos_token_id`:2 for open-end generation.\n"
     ]
    },
    {
     "data": {
      "text/plain": [
       "'Dr. Suresh Kumar Reddy, MD (Ayu)\\n\\nAnswer:\\n\\nTraveling from one place to another may cause some health problems due to change of climate, food habits etc. The symptoms like fever, headache, nausea, vomiting, diarrhea are common during traveling. These symptoms can be treated with home remedies.\\n\\n1. Drink plenty of water or fruit juices.\\n2. Avoid eating spicy foods.\\n3. Take rest for few days.\\n4. Do not take stress.\\n5. Eat light diet.\\n6. Avoid alcoholic drinks.\\n7. Avoid smoking.\\n8. Wear loose clothes.\\n9. Use air conditioner if possible.\\n10. If you have any doubt consult your doctor.'"
      ]
     },
     "execution_count": 32,
     "metadata": {},
     "output_type": "execute_result"
    }
   ],
   "source": [
    "response('I am feeling sick after travel and my body is hot what might be reason?')"
   ]
  },
  {
   "cell_type": "code",
   "execution_count": 14,
   "id": "e0343e3b-83b8-45be-b201-d3be46bac121",
   "metadata": {},
   "outputs": [
    {
     "name": "stderr",
     "output_type": "stream",
     "text": [
      "Setting `pad_token_id` to `eos_token_id`:2 for open-end generation.\n"
     ]
    },
    {
     "data": {
      "text/plain": [
       "'Answer:\\n\\nDear Sir,\\n\\nThank you for your query.\\n\\nThe treatment of hyperthyroidism is based on the severity of symptoms and signs. The first line of therapy is anti-thyroid drugs (ATD) which are given orally. These drugs block the production of thyroid hormones by inhibiting the enzyme that converts T4 into T3. They also reduce the size of the goiter. ATDs include methimazole (MMI), carbamazole (CBZ), propylthiouracil (PTU). MMI is preferred over PTU because of its better safety profile. However, if there is an allergy to MMI then PTU can be used.\\n\\nIn addition to ATDs, beta-blockers like propranolol may be prescribed to relieve symptoms such as palpitations, tremors, anxiety, etc. Beta-block'"
      ]
     },
     "execution_count": 14,
     "metadata": {},
     "output_type": "execute_result"
    }
   ],
   "source": [
    "response('How should I control my thyroid levels?')"
   ]
  },
  {
   "cell_type": "markdown",
   "id": "274dd59a-fcff-43ee-a6aa-de72f4856e4b",
   "metadata": {},
   "source": [
    "### Chatbot Interface"
   ]
  },
  {
   "cell_type": "code",
   "execution_count": 37,
   "id": "69952985-4f48-4817-975f-c86c9966cac9",
   "metadata": {},
   "outputs": [
    {
     "name": "stdout",
     "output_type": "stream",
     "text": [
      "Running on local URL:  http://127.0.0.1:7860\n",
      "Running on public URL: https://c4c2a04c1be5c6f4a3.gradio.live\n",
      "\n",
      "This share link expires in 72 hours. For free permanent hosting and GPU upgrades, run `gradio deploy` from Terminal to deploy to Spaces (https://huggingface.co/spaces)\n"
     ]
    },
    {
     "data": {
      "text/html": [
       "<div><iframe src=\"https://c4c2a04c1be5c6f4a3.gradio.live\" width=\"100%\" height=\"500\" allow=\"autoplay; camera; microphone; clipboard-read; clipboard-write;\" frameborder=\"0\" allowfullscreen></iframe></div>"
      ],
      "text/plain": [
       "<IPython.core.display.HTML object>"
      ]
     },
     "metadata": {},
     "output_type": "display_data"
    },
    {
     "data": {
      "text/plain": []
     },
     "execution_count": 37,
     "metadata": {},
     "output_type": "execute_result"
    },
    {
     "name": "stderr",
     "output_type": "stream",
     "text": [
      "Setting `pad_token_id` to `eos_token_id`:2 for open-end generation.\n",
      "Setting `pad_token_id` to `eos_token_id`:2 for open-end generation.\n"
     ]
    }
   ],
   "source": [
    "import gradio as gr\n",
    "\n",
    "def chat_doctor_response(message):\n",
    "    return response(message)\n",
    "\n",
    "interface = gr.Interface(\n",
    "    fn=chat_doctor_response,\n",
    "    inputs=gr.Textbox(label=\"Your Question\", placeholder=\"How can I help you?\"),\n",
    "    outputs=\"text\",\n",
    "    title=\"Hey!! It's me DocBot\",\n",
    "    description=\"Ask any medical question you have.\",\n",
    "    # css=css  # Apply the custom CSS\n",
    ")\n",
    "\n",
    "interface.launch(share=True)\n"
   ]
  },
  {
   "cell_type": "code",
   "execution_count": null,
   "id": "72a2262a-d1ee-44f2-97c2-dd551d502519",
   "metadata": {},
   "outputs": [],
   "source": []
  },
  {
   "cell_type": "markdown",
   "id": "bb23e9b2-5f5b-4873-a8ed-c4c0e40ddf70",
   "metadata": {},
   "source": [
    "## Computing Performance Evaluation \n",
    "\n"
   ]
  },
  {
   "cell_type": "code",
   "execution_count": 27,
   "id": "0bbc704f-2531-4b51-b52e-0c2859650090",
   "metadata": {},
   "outputs": [
    {
     "name": "stderr",
     "output_type": "stream",
     "text": [
      "[nltk_data] Downloading package wordnet to /root/nltk_data...\n"
     ]
    },
    {
     "data": {
      "text/plain": [
       "True"
      ]
     },
     "execution_count": 27,
     "metadata": {},
     "output_type": "execute_result"
    }
   ],
   "source": [
    "import nltk\n",
    "nltk.download('wordnet')"
   ]
  },
  {
   "cell_type": "code",
   "execution_count": 35,
   "id": "631c8ce5-665d-4872-91b5-c399689fe97f",
   "metadata": {
    "scrolled": true
   },
   "outputs": [
    {
     "name": "stderr",
     "output_type": "stream",
     "text": [
      "Unused kwargs: ['_load_in_4bit', '_load_in_8bit', 'quant_method']. These kwargs are not used in <class 'transformers.utils.quantization_config.BitsAndBytesConfig'>.\n",
      "`low_cpu_mem_usage` was None, now set to True since model is quantized.\n",
      "  0%|          | 0/137 [00:00<?, ?it/s]Asking to truncate to max_length but no maximum length is provided and the model has no predefined maximum length. Default to no truncation.\n",
      "Setting `pad_token_id` to `eos_token_id`:2 for open-end generation.\n",
      "  1%|          | 1/137 [00:08<19:45,  8.71s/it]Setting `pad_token_id` to `eos_token_id`:2 for open-end generation.\n",
      "  1%|▏         | 2/137 [00:17<19:35,  8.70s/it]Setting `pad_token_id` to `eos_token_id`:2 for open-end generation.\n",
      "  2%|▏         | 3/137 [00:26<19:26,  8.70s/it]Setting `pad_token_id` to `eos_token_id`:2 for open-end generation.\n",
      "  3%|▎         | 4/137 [00:34<19:22,  8.74s/it]Setting `pad_token_id` to `eos_token_id`:2 for open-end generation.\n",
      "  4%|▎         | 5/137 [00:43<19:11,  8.72s/it]Setting `pad_token_id` to `eos_token_id`:2 for open-end generation.\n",
      "  4%|▍         | 6/137 [00:52<19:01,  8.71s/it]Setting `pad_token_id` to `eos_token_id`:2 for open-end generation.\n",
      "  5%|▌         | 7/137 [01:00<18:50,  8.70s/it]Setting `pad_token_id` to `eos_token_id`:2 for open-end generation.\n",
      "  6%|▌         | 8/137 [01:09<18:42,  8.70s/it]Setting `pad_token_id` to `eos_token_id`:2 for open-end generation.\n",
      "  7%|▋         | 9/137 [01:18<18:33,  8.70s/it]Setting `pad_token_id` to `eos_token_id`:2 for open-end generation.\n",
      "  7%|▋         | 10/137 [01:27<18:23,  8.69s/it]Setting `pad_token_id` to `eos_token_id`:2 for open-end generation.\n",
      "  8%|▊         | 11/137 [01:35<18:14,  8.69s/it]Setting `pad_token_id` to `eos_token_id`:2 for open-end generation.\n",
      "  9%|▉         | 12/137 [01:44<18:06,  8.69s/it]Setting `pad_token_id` to `eos_token_id`:2 for open-end generation.\n",
      "  9%|▉         | 13/137 [01:53<17:57,  8.69s/it]Setting `pad_token_id` to `eos_token_id`:2 for open-end generation.\n",
      " 10%|█         | 14/137 [02:01<17:48,  8.69s/it]Setting `pad_token_id` to `eos_token_id`:2 for open-end generation.\n",
      " 11%|█         | 15/137 [02:10<17:39,  8.69s/it]Setting `pad_token_id` to `eos_token_id`:2 for open-end generation.\n",
      " 12%|█▏        | 16/137 [02:19<17:32,  8.70s/it]Setting `pad_token_id` to `eos_token_id`:2 for open-end generation.\n",
      " 12%|█▏        | 17/137 [02:27<17:24,  8.70s/it]Setting `pad_token_id` to `eos_token_id`:2 for open-end generation.\n",
      " 13%|█▎        | 18/137 [02:36<17:14,  8.70s/it]Setting `pad_token_id` to `eos_token_id`:2 for open-end generation.\n",
      " 14%|█▍        | 19/137 [02:45<17:13,  8.76s/it]Setting `pad_token_id` to `eos_token_id`:2 for open-end generation.\n",
      " 15%|█▍        | 20/137 [02:54<17:02,  8.74s/it]Setting `pad_token_id` to `eos_token_id`:2 for open-end generation.\n",
      " 15%|█▌        | 21/137 [03:02<16:51,  8.72s/it]Setting `pad_token_id` to `eos_token_id`:2 for open-end generation.\n",
      " 16%|█▌        | 22/137 [03:11<16:41,  8.71s/it]Setting `pad_token_id` to `eos_token_id`:2 for open-end generation.\n",
      " 17%|█▋        | 23/137 [03:20<16:32,  8.71s/it]Setting `pad_token_id` to `eos_token_id`:2 for open-end generation.\n",
      " 18%|█▊        | 24/137 [03:28<16:23,  8.70s/it]Setting `pad_token_id` to `eos_token_id`:2 for open-end generation.\n",
      " 18%|█▊        | 25/137 [03:37<16:14,  8.70s/it]Setting `pad_token_id` to `eos_token_id`:2 for open-end generation.\n",
      " 19%|█▉        | 26/137 [03:46<16:04,  8.69s/it]Setting `pad_token_id` to `eos_token_id`:2 for open-end generation.\n",
      " 20%|█▉        | 27/137 [03:54<15:55,  8.69s/it]Setting `pad_token_id` to `eos_token_id`:2 for open-end generation.\n",
      " 20%|██        | 28/137 [04:03<15:46,  8.68s/it]Setting `pad_token_id` to `eos_token_id`:2 for open-end generation.\n",
      " 21%|██        | 29/137 [04:12<15:39,  8.70s/it]Setting `pad_token_id` to `eos_token_id`:2 for open-end generation.\n",
      " 22%|██▏       | 30/137 [04:21<15:30,  8.70s/it]Setting `pad_token_id` to `eos_token_id`:2 for open-end generation.\n",
      " 23%|██▎       | 31/137 [04:29<15:21,  8.69s/it]Setting `pad_token_id` to `eos_token_id`:2 for open-end generation.\n",
      " 23%|██▎       | 32/137 [04:38<15:12,  8.69s/it]Setting `pad_token_id` to `eos_token_id`:2 for open-end generation.\n",
      " 24%|██▍       | 33/137 [04:47<15:03,  8.68s/it]Setting `pad_token_id` to `eos_token_id`:2 for open-end generation.\n",
      " 25%|██▍       | 34/137 [04:55<14:54,  8.68s/it]Setting `pad_token_id` to `eos_token_id`:2 for open-end generation.\n",
      " 26%|██▌       | 35/137 [05:04<14:44,  8.68s/it]Setting `pad_token_id` to `eos_token_id`:2 for open-end generation.\n",
      " 26%|██▋       | 36/137 [05:13<14:36,  8.68s/it]Setting `pad_token_id` to `eos_token_id`:2 for open-end generation.\n",
      " 27%|██▋       | 37/137 [05:21<14:28,  8.69s/it]Setting `pad_token_id` to `eos_token_id`:2 for open-end generation.\n",
      " 28%|██▊       | 38/137 [05:30<14:22,  8.71s/it]Setting `pad_token_id` to `eos_token_id`:2 for open-end generation.\n",
      " 28%|██▊       | 39/137 [05:39<14:12,  8.70s/it]Setting `pad_token_id` to `eos_token_id`:2 for open-end generation.\n",
      " 29%|██▉       | 40/137 [05:47<14:03,  8.70s/it]Setting `pad_token_id` to `eos_token_id`:2 for open-end generation.\n",
      " 38%|███▊      | 52/137 [07:32<12:19,  8.69s/it]Setting `pad_token_id` to `eos_token_id`:2 for open-end generation.\n",
      " 39%|███▊      | 53/137 [07:41<12:10,  8.70s/it]Setting `pad_token_id` to `eos_token_id`:2 for open-end generation.\n",
      " 39%|███▉      | 54/137 [07:49<12:01,  8.69s/it]Setting `pad_token_id` to `eos_token_id`:2 for open-end generation.\n",
      " 40%|████      | 55/137 [07:58<11:51,  8.68s/it]Setting `pad_token_id` to `eos_token_id`:2 for open-end generation.\n",
      " 41%|████      | 56/137 [08:07<11:43,  8.68s/it]Setting `pad_token_id` to `eos_token_id`:2 for open-end generation.\n",
      " 42%|████▏     | 57/137 [08:15<11:34,  8.68s/it]Setting `pad_token_id` to `eos_token_id`:2 for open-end generation.\n",
      " 42%|████▏     | 58/137 [08:24<11:25,  8.68s/it]Setting `pad_token_id` to `eos_token_id`:2 for open-end generation.\n",
      " 43%|████▎     | 59/137 [08:33<11:17,  8.68s/it]Setting `pad_token_id` to `eos_token_id`:2 for open-end generation.\n",
      " 44%|████▍     | 60/137 [08:41<11:08,  8.68s/it]Setting `pad_token_id` to `eos_token_id`:2 for open-end generation.\n",
      " 45%|████▍     | 61/137 [08:50<10:59,  8.67s/it]Setting `pad_token_id` to `eos_token_id`:2 for open-end generation.\n",
      " 45%|████▌     | 62/137 [08:59<10:51,  8.69s/it]Setting `pad_token_id` to `eos_token_id`:2 for open-end generation.\n",
      " 46%|████▌     | 63/137 [09:07<10:43,  8.69s/it]Setting `pad_token_id` to `eos_token_id`:2 for open-end generation.\n",
      " 47%|████▋     | 64/137 [09:16<10:34,  8.69s/it]Setting `pad_token_id` to `eos_token_id`:2 for open-end generation.\n",
      " 47%|████▋     | 65/137 [09:25<10:24,  8.68s/it]Setting `pad_token_id` to `eos_token_id`:2 for open-end generation.\n",
      " 48%|████▊     | 66/137 [09:33<10:16,  8.69s/it]Setting `pad_token_id` to `eos_token_id`:2 for open-end generation.\n",
      " 49%|████▉     | 67/137 [09:42<10:08,  8.69s/it]Setting `pad_token_id` to `eos_token_id`:2 for open-end generation.\n",
      " 50%|████▉     | 68/137 [09:51<09:59,  8.69s/it]Setting `pad_token_id` to `eos_token_id`:2 for open-end generation.\n",
      " 50%|█████     | 69/137 [09:59<09:50,  8.69s/it]Setting `pad_token_id` to `eos_token_id`:2 for open-end generation.\n",
      " 51%|█████     | 70/137 [10:08<09:42,  8.69s/it]Setting `pad_token_id` to `eos_token_id`:2 for open-end generation.\n",
      " 52%|█████▏    | 71/137 [10:17<09:33,  8.69s/it]Setting `pad_token_id` to `eos_token_id`:2 for open-end generation.\n",
      " 53%|█████▎    | 72/137 [10:26<09:25,  8.71s/it]Setting `pad_token_id` to `eos_token_id`:2 for open-end generation.\n",
      " 53%|█████▎    | 73/137 [10:34<09:17,  8.72s/it]Setting `pad_token_id` to `eos_token_id`:2 for open-end generation.\n",
      " 54%|█████▍    | 74/137 [10:43<09:09,  8.73s/it]Setting `pad_token_id` to `eos_token_id`:2 for open-end generation.\n",
      " 55%|█████▍    | 75/137 [10:52<09:00,  8.72s/it]Setting `pad_token_id` to `eos_token_id`:2 for open-end generation.\n",
      " 55%|█████▌    | 76/137 [11:00<08:51,  8.70s/it]Setting `pad_token_id` to `eos_token_id`:2 for open-end generation.\n",
      " 56%|█████▌    | 77/137 [11:09<08:41,  8.70s/it]Setting `pad_token_id` to `eos_token_id`:2 for open-end generation.\n",
      " 57%|█████▋    | 78/137 [11:18<08:32,  8.69s/it]Setting `pad_token_id` to `eos_token_id`:2 for open-end generation.\n",
      " 58%|█████▊    | 79/137 [11:27<08:24,  8.69s/it]Setting `pad_token_id` to `eos_token_id`:2 for open-end generation.\n",
      " 58%|█████▊    | 80/137 [11:35<08:15,  8.69s/it]Setting `pad_token_id` to `eos_token_id`:2 for open-end generation.\n",
      " 59%|█████▉    | 81/137 [11:44<08:06,  8.69s/it]Setting `pad_token_id` to `eos_token_id`:2 for open-end generation.\n",
      " 60%|█████▉    | 82/137 [11:53<07:57,  8.69s/it]Setting `pad_token_id` to `eos_token_id`:2 for open-end generation.\n",
      " 61%|██████    | 83/137 [12:01<07:49,  8.70s/it]Setting `pad_token_id` to `eos_token_id`:2 for open-end generation.\n",
      " 61%|██████▏   | 84/137 [12:10<07:40,  8.70s/it]Setting `pad_token_id` to `eos_token_id`:2 for open-end generation.\n",
      " 62%|██████▏   | 85/137 [12:19<07:32,  8.70s/it]Setting `pad_token_id` to `eos_token_id`:2 for open-end generation.\n",
      " 63%|██████▎   | 86/137 [12:27<07:23,  8.70s/it]Setting `pad_token_id` to `eos_token_id`:2 for open-end generation.\n",
      " 64%|██████▎   | 87/137 [12:36<07:14,  8.70s/it]Setting `pad_token_id` to `eos_token_id`:2 for open-end generation.\n",
      " 64%|██████▍   | 88/137 [12:45<07:06,  8.70s/it]Setting `pad_token_id` to `eos_token_id`:2 for open-end generation.\n",
      " 65%|██████▍   | 89/137 [12:53<06:57,  8.70s/it]Setting `pad_token_id` to `eos_token_id`:2 for open-end generation.\n",
      " 66%|██████▌   | 90/137 [13:02<06:48,  8.70s/it]Setting `pad_token_id` to `eos_token_id`:2 for open-end generation.\n",
      " 66%|██████▋   | 91/137 [13:11<06:40,  8.70s/it]Setting `pad_token_id` to `eos_token_id`:2 for open-end generation.\n",
      " 67%|██████▋   | 92/137 [13:20<06:31,  8.70s/it]Setting `pad_token_id` to `eos_token_id`:2 for open-end generation.\n",
      " 68%|██████▊   | 93/137 [13:28<06:22,  8.70s/it]Setting `pad_token_id` to `eos_token_id`:2 for open-end generation.\n",
      " 69%|██████▊   | 94/137 [13:37<06:15,  8.73s/it]Setting `pad_token_id` to `eos_token_id`:2 for open-end generation.\n",
      " 69%|██████▉   | 95/137 [13:46<06:06,  8.73s/it]Setting `pad_token_id` to `eos_token_id`:2 for open-end generation.\n",
      " 70%|███████   | 96/137 [13:55<05:59,  8.76s/it]Setting `pad_token_id` to `eos_token_id`:2 for open-end generation.\n",
      " 71%|███████   | 97/137 [14:03<05:49,  8.73s/it]Setting `pad_token_id` to `eos_token_id`:2 for open-end generation.\n",
      " 72%|███████▏  | 98/137 [14:12<05:40,  8.72s/it]Setting `pad_token_id` to `eos_token_id`:2 for open-end generation.\n",
      " 72%|███████▏  | 99/137 [14:21<05:31,  8.71s/it]Setting `pad_token_id` to `eos_token_id`:2 for open-end generation.\n",
      " 73%|███████▎  | 100/137 [14:29<05:22,  8.70s/it]Setting `pad_token_id` to `eos_token_id`:2 for open-end generation.\n",
      " 74%|███████▎  | 101/137 [14:38<05:12,  8.69s/it]Setting `pad_token_id` to `eos_token_id`:2 for open-end generation.\n",
      " 74%|███████▍  | 102/137 [14:47<05:04,  8.69s/it]Setting `pad_token_id` to `eos_token_id`:2 for open-end generation.\n",
      " 75%|███████▌  | 103/137 [14:55<04:55,  8.69s/it]Setting `pad_token_id` to `eos_token_id`:2 for open-end generation.\n",
      " 76%|███████▌  | 104/137 [15:04<04:46,  8.69s/it]Setting `pad_token_id` to `eos_token_id`:2 for open-end generation.\n",
      " 77%|███████▋  | 105/137 [15:13<04:37,  8.68s/it]Setting `pad_token_id` to `eos_token_id`:2 for open-end generation.\n",
      " 77%|███████▋  | 106/137 [15:21<04:29,  8.68s/it]Setting `pad_token_id` to `eos_token_id`:2 for open-end generation.\n",
      " 78%|███████▊  | 107/137 [15:30<04:20,  8.68s/it]Setting `pad_token_id` to `eos_token_id`:2 for open-end generation.\n",
      " 79%|███████▉  | 108/137 [15:39<04:11,  8.69s/it]Setting `pad_token_id` to `eos_token_id`:2 for open-end generation.\n",
      " 80%|███████▉  | 109/137 [15:48<04:03,  8.69s/it]Setting `pad_token_id` to `eos_token_id`:2 for open-end generation.\n",
      " 80%|████████  | 110/137 [15:56<03:54,  8.68s/it]Setting `pad_token_id` to `eos_token_id`:2 for open-end generation.\n",
      " 81%|████████  | 111/137 [16:05<03:45,  8.68s/it]Setting `pad_token_id` to `eos_token_id`:2 for open-end generation.\n",
      " 82%|████████▏ | 112/137 [16:14<03:36,  8.68s/it]Setting `pad_token_id` to `eos_token_id`:2 for open-end generation.\n",
      " 82%|████████▏ | 113/137 [16:22<03:28,  8.69s/it]Setting `pad_token_id` to `eos_token_id`:2 for open-end generation.\n",
      " 83%|████████▎ | 114/137 [16:31<03:19,  8.69s/it]Setting `pad_token_id` to `eos_token_id`:2 for open-end generation.\n",
      " 84%|████████▍ | 115/137 [16:40<03:11,  8.69s/it]Setting `pad_token_id` to `eos_token_id`:2 for open-end generation.\n",
      " 85%|████████▍ | 116/137 [16:48<03:02,  8.69s/it]Setting `pad_token_id` to `eos_token_id`:2 for open-end generation.\n",
      " 85%|████████▌ | 117/137 [16:57<02:53,  8.69s/it]Setting `pad_token_id` to `eos_token_id`:2 for open-end generation.\n",
      " 86%|████████▌ | 118/137 [17:06<02:44,  8.68s/it]Setting `pad_token_id` to `eos_token_id`:2 for open-end generation.\n",
      " 87%|████████▋ | 119/137 [17:14<02:36,  8.68s/it]Setting `pad_token_id` to `eos_token_id`:2 for open-end generation.\n",
      " 88%|████████▊ | 120/137 [17:23<02:27,  8.69s/it]Setting `pad_token_id` to `eos_token_id`:2 for open-end generation.\n",
      " 88%|████████▊ | 121/137 [17:32<02:19,  8.69s/it]Setting `pad_token_id` to `eos_token_id`:2 for open-end generation.\n",
      " 89%|████████▉ | 122/137 [17:40<02:10,  8.69s/it]Setting `pad_token_id` to `eos_token_id`:2 for open-end generation.\n",
      " 90%|████████▉ | 123/137 [17:49<02:01,  8.69s/it]Setting `pad_token_id` to `eos_token_id`:2 for open-end generation.\n",
      " 91%|█████████ | 124/137 [17:58<01:53,  8.70s/it]Setting `pad_token_id` to `eos_token_id`:2 for open-end generation.\n",
      " 91%|█████████ | 125/137 [18:07<01:44,  8.69s/it]Setting `pad_token_id` to `eos_token_id`:2 for open-end generation.\n",
      " 92%|█████████▏| 126/137 [18:15<01:35,  8.68s/it]Setting `pad_token_id` to `eos_token_id`:2 for open-end generation.\n",
      " 93%|█████████▎| 127/137 [18:24<01:26,  8.68s/it]Setting `pad_token_id` to `eos_token_id`:2 for open-end generation.\n",
      " 93%|█████████▎| 128/137 [18:33<01:18,  8.68s/it]Setting `pad_token_id` to `eos_token_id`:2 for open-end generation.\n",
      " 94%|█████████▍| 129/137 [18:41<01:09,  8.68s/it]Setting `pad_token_id` to `eos_token_id`:2 for open-end generation.\n",
      " 95%|█████████▍| 130/137 [18:50<01:00,  8.68s/it]Setting `pad_token_id` to `eos_token_id`:2 for open-end generation.\n",
      " 96%|█████████▌| 131/137 [18:59<00:52,  8.68s/it]Setting `pad_token_id` to `eos_token_id`:2 for open-end generation.\n",
      " 96%|█████████▋| 132/137 [19:07<00:43,  8.68s/it]Setting `pad_token_id` to `eos_token_id`:2 for open-end generation.\n",
      " 97%|█████████▋| 133/137 [19:16<00:34,  8.68s/it]Setting `pad_token_id` to `eos_token_id`:2 for open-end generation.\n",
      " 98%|█████████▊| 134/137 [19:25<00:26,  8.68s/it]Setting `pad_token_id` to `eos_token_id`:2 for open-end generation.\n",
      " 99%|█████████▊| 135/137 [19:33<00:17,  8.68s/it]Setting `pad_token_id` to `eos_token_id`:2 for open-end generation.\n",
      " 99%|█████████▉| 136/137 [19:42<00:08,  8.68s/it]Setting `pad_token_id` to `eos_token_id`:2 for open-end generation.\n",
      "100%|██████████| 137/137 [19:45<00:00,  8.65s/it]"
     ]
    },
    {
     "name": "stdout",
     "output_type": "stream",
     "text": [
      "Evaluation completed and results saved!\n",
      "Average BLEU Score: 0.047078332281463936\n",
      "Average ROUGE Scores: {'rouge-1': 0.2686367219604025, 'rouge-2': 0.14497031647759837, 'rouge-l': 0.2535409158488689}\n",
      "Average METEOR Score: 0.3123277218233671\n",
      "\n"
     ]
    },
    {
     "name": "stderr",
     "output_type": "stream",
     "text": [
      "\n"
     ]
    }
   ],
   "source": [
    "import torch\n",
    "from transformers import AutoModelForCausalLM, AutoTokenizer, BitsAndBytesConfig\n",
    "from datasets import load_dataset\n",
    "import os\n",
    "from tqdm import tqdm\n",
    "import numpy as np\n",
    "from nltk.translate.bleu_score import sentence_bleu\n",
    "from rouge import Rouge\n",
    "from nltk.translate.meteor_score import meteor_score\n",
    "\n",
    "# Fine-tuned model name (to load the model weights)\n",
    "finetuned_model_name = \"Lokesh477/healthcare_llm\"\n",
    "\n",
    "# Load the model with the quantization config\n",
    "try:\n",
    "    fine_tuned_model = AutoModelForCausalLM.from_pretrained(finetuned_model_name, quantization_config=bnb_config)\n",
    "except OSError as e:\n",
    "    print(f\"Error loading model: {e}\")\n",
    "    raise\n",
    "\n",
    "# Load the tokenizer from the base model\n",
    "try:\n",
    "    tokenizer = AutoTokenizer.from_pretrained(base_model_id)\n",
    "    if tokenizer.pad_token is None:\n",
    "        tokenizer.pad_token = tokenizer.eos_token\n",
    "except OSError as e:\n",
    "    print(f\"Error loading tokenizer: {e}\")\n",
    "    raise\n",
    "\n",
    "# Load the dataset\n",
    "dataset = load_dataset('truthful_qa', 'generation')\n",
    "\n",
    "# Prepare the output directory\n",
    "output_dir = \"./evaluation\"\n",
    "os.makedirs(output_dir, exist_ok=True)\n",
    "\n",
    "def evaluate_metrics(model, tokenizer, dataset, batch_size=6, max_new_tokens=50):\n",
    "    results = []\n",
    "    references = []\n",
    "    bleu_scores = []\n",
    "    rouge_scores = []\n",
    "    meteor_scores = []\n",
    "    \n",
    "    rouge = Rouge()\n",
    "\n",
    "    for i in tqdm(range(0, len(dataset[\"validation\"]), batch_size)):\n",
    "        batch = dataset[\"validation\"][i:i+batch_size]\n",
    "        inputs = tokenizer(batch[\"question\"], return_tensors=\"pt\", padding=True, truncation=True)\n",
    "        reference_answers = batch[\"best_answer\"]  # Extract reference answers directly\n",
    "\n",
    "        with torch.no_grad():\n",
    "            outputs = model.generate(**inputs, max_new_tokens=max_new_tokens)\n",
    "        decoded_outputs = [tokenizer.decode(output, skip_special_tokens=True) for output in outputs]\n",
    "        \n",
    "        # Store results and references\n",
    "        results.extend(decoded_outputs)\n",
    "        references.extend(reference_answers)\n",
    "\n",
    "        # Calculate metrics\n",
    "        for ref, hyp in zip(reference_answers, decoded_outputs):\n",
    "            # Tokenize reference and hypothesis\n",
    "            ref_tokens = ref.split()\n",
    "            hyp_tokens = hyp.split()\n",
    "            \n",
    "            # BLEU\n",
    "            bleu_scores.append(sentence_bleu([ref_tokens], hyp_tokens, weights=(0.25, 0.25, 0.25, 0.25)))\n",
    "            # ROUGE\n",
    "            try:\n",
    "                score = rouge.get_scores(hyp, ref)[0]\n",
    "                rouge_scores.append(score)\n",
    "            except ValueError:\n",
    "                rouge_scores.append({'rouge-1': {'f': 0.0}, 'rouge-2': {'f': 0.0}, 'rouge-l': {'f': 0.0}})\n",
    "            # METEOR\n",
    "            meteor_scores.append(meteor_score([ref_tokens], hyp_tokens))\n",
    "\n",
    "    # Calculate average scores\n",
    "    avg_bleu = np.mean(bleu_scores)\n",
    "    avg_rouge = {key: np.mean([d[key]['f'] for d in rouge_scores]) for key in ['rouge-1', 'rouge-2', 'rouge-l']}\n",
    "    avg_meteor = np.mean(meteor_scores)\n",
    "\n",
    "    return results, references, avg_bleu, avg_rouge, avg_meteor\n",
    "\n",
    "# Perform evaluation\n",
    "results, references, avg_bleu, avg_rouge, avg_meteor = evaluate_metrics(fine_tuned_model, tokenizer, dataset, batch_size=6, max_new_tokens=50)\n",
    "\n",
    "# Save results to file along with metrics\n",
    "with open(f\"{output_dir}/evaluation_metrics.txt\", \"w\") as f:\n",
    "    f.write(f\"===========Average BLEU Score: {avg_bleu}===========\\n\")\n",
    "    f.write(f\"===========Average ROUGE Scores: {avg_rouge}===========\\n\")\n",
    "    f.write(f\"===========Average METEOR Score: {avg_meteor}===========\\n\")\n",
    "    for result, reference in zip(results, references):\n",
    "        f.write(f\"Generated: {result}\\nReference: {reference}\\n\\n\")\n",
    "    \n",
    "\n",
    "print(\"Evaluation completed and results saved!\")\n",
    "print(f\"Average BLEU Score: {avg_bleu}\\nAverage ROUGE Scores: {avg_rouge}\\nAverage METEOR Score: {avg_meteor}\\n\")\n",
    "\n"
   ]
  },
  {
   "cell_type": "code",
   "execution_count": 36,
   "id": "319e469f-36dd-4011-b047-b67f55074854",
   "metadata": {},
   "outputs": [
    {
     "name": "stdout",
     "output_type": "stream",
     "text": [
      "Evaluation completed and results saved!\n",
      "Average BLEU Score: 0.047078332281463936\n",
      "Average ROUGE Scores: {'rouge-1': 0.2686367219604025, 'rouge-2': 0.14497031647759837, 'rouge-l': 0.2535409158488689}\n",
      "Average METEOR Score: 0.3123277218233671\n",
      "\n"
     ]
    }
   ],
   "source": [
    "\n",
    "print(\"Evaluation completed and results saved!\")\n",
    "print(f\"Average BLEU Score: {avg_bleu}\\nAverage ROUGE Scores: {avg_rouge}\\nAverage METEOR Score: {avg_meteor}\\n\")"
   ]
  },
  {
   "cell_type": "markdown",
   "id": "2da01a7a-0310-4bf9-b645-60f16db39fcb",
   "metadata": {},
   "source": [
    "### Evaluation Metrics Insights\n",
    "\n",
    "1. Average BLEU Score: 0.047 - Indicates low similarity in n-gram matches between generated text and reference answers.\n",
    "2. Average ROUGE Scores:\n",
    "   a. ROUGE-1: 0.269 - the moderate value suggests the model captures some important words but misses others.\n",
    "   b. ROUGE-2: 0.145\n",
    "   c. ROUGE-L: 0.254\n",
    "     - Implies moderate structural coherence with reference answers but needs improvement.\n",
    "\n",
    "3. Average METEOR Score: 0.312\n",
    "- Indicates better semantic similarity and relevance to reference answers.\n",
    "- Suggests acceptable content relevance despite lower exact n-gram matches.\n",
    "\n",
    "### Inference\n",
    "- Moderate performance in generating semantically similar responses.\n",
    "- Struggles with precise word and phrase matches (low BLEU score).\n",
    "- Moderate ROUGE scores indicate some important word capture but lack of exact matches.\n",
    "- Higher METEOR score suggests acceptable semantic content but lacks structural coherence.\n",
    "\n",
    "### Challenges\n",
    "- Due to shortage of storage space and GPU accessibility, a small dataset was used for the model.\n",
    "- Better model evaluation could be observed if a reliable Patient-Doctor chat dataset is used.\n"
   ]
  },
  {
   "cell_type": "code",
   "execution_count": null,
   "id": "2dfe607d-43c4-4fb4-b8a6-0875ae3b8345",
   "metadata": {},
   "outputs": [],
   "source": []
  }
 ],
 "metadata": {
  "kernelspec": {
   "display_name": "fine_tune_env",
   "language": "python",
   "name": "fine_tune_env"
  },
  "language_info": {
   "codemirror_mode": {
    "name": "ipython",
    "version": 3
   },
   "file_extension": ".py",
   "mimetype": "text/x-python",
   "name": "python",
   "nbconvert_exporter": "python",
   "pygments_lexer": "ipython3",
   "version": "3.10.12"
  }
 },
 "nbformat": 4,
 "nbformat_minor": 5
}
